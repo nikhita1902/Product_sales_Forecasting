{
 "cells": [
  {
   "cell_type": "code",
   "execution_count": 1,
   "id": "f4c31273",
   "metadata": {},
   "outputs": [],
   "source": [
    "# predict_and_submission.py\n",
    "import numpy as np\n",
    "import pandas as pd\n",
    "import pickle\n",
    "import numpy as np"
   ]
  },
  {
   "cell_type": "code",
   "execution_count": 2,
   "id": "207681ae",
   "metadata": {},
   "outputs": [],
   "source": [
    "# 1. Load model\n",
    "with open('C:/Product_Sale_Forecasting/models/xgboost_model.pkl', 'rb') as file:\n",
    "    model = pickle.load(file)"
   ]
  },
  {
   "cell_type": "code",
   "execution_count": 3,
   "id": "f95c646f",
   "metadata": {},
   "outputs": [],
   "source": [
    "# Load the scaler\n",
    "with open('C:/Product_Sale_Forecasting/models/scaler.pkl', 'rb') as f:\n",
    "    scaler = pickle.load(f)"
   ]
  },
  {
   "cell_type": "code",
   "execution_count": 4,
   "id": "d17dfe17",
   "metadata": {},
   "outputs": [],
   "source": [
    "# 2. Load processed test data\n",
    "test = pd.read_csv('C:/Product_Sale_Forecasting/data/test_feature_engineered.csv')"
   ]
  },
  {
   "cell_type": "code",
   "execution_count": 5,
   "id": "dac0797f",
   "metadata": {},
   "outputs": [],
   "source": [
    "test['Discount'] = test['Discount'].map({'Yes': 1, 'No': 0})"
   ]
  },
  {
   "cell_type": "code",
   "execution_count": 6,
   "id": "5be6d7a4",
   "metadata": {},
   "outputs": [],
   "source": [
    "# 3. Match columns like X (Drop columns not used for prediction)\n",
    "X_test = test.drop(['ID', 'Date'], axis=1)\n",
    "\n"
   ]
  },
  {
   "cell_type": "code",
   "execution_count": 7,
   "id": "15094f1d",
   "metadata": {},
   "outputs": [],
   "source": [
    "# Predict on test data\n",
    "y_test_pred_scaled = model.predict(X_test)"
   ]
  },
  {
   "cell_type": "code",
   "execution_count": 8,
   "id": "bdb179d1",
   "metadata": {},
   "outputs": [],
   "source": [
    "# 4. Predict sales\n",
    "y_pred = model.predict(X_test)"
   ]
  },
  {
   "cell_type": "code",
   "execution_count": 9,
   "id": "86db686f",
   "metadata": {},
   "outputs": [],
   "source": [
    "# Inverse transform the predictions\n",
    "y_test_pred = scaler.inverse_transform(\n",
    "    np.column_stack((y_test_pred_scaled, np.zeros((len(y_test_pred_scaled), 3))))\n",
    ")[:, 0]"
   ]
  },
  {
   "cell_type": "code",
   "execution_count": 10,
   "id": "b35aa62f",
   "metadata": {},
   "outputs": [],
   "source": [
    "# Clip negative sales to zero\n",
    "y_test_pred = np.clip(y_test_pred, 0, None)"
   ]
  },
  {
   "cell_type": "code",
   "execution_count": 11,
   "id": "1b7fd286",
   "metadata": {},
   "outputs": [],
   "source": [
    "# 5. Prepare the submission dataframe\n",
    "submission = pd.DataFrame({\n",
    "    'ID': test['ID'],\n",
    "    'Sales': np.round(y_test_pred,4)\n",
    "})"
   ]
  },
  {
   "cell_type": "code",
   "execution_count": 12,
   "id": "276f7473",
   "metadata": {},
   "outputs": [
    {
     "name": "stdout",
     "output_type": "stream",
     "text": [
      "✅ Submission file created successfully!\n"
     ]
    }
   ],
   "source": [
    "# 6. Save the submission file\n",
    "submission.to_csv('submission.csv', index=False)\n",
    "\n",
    "print(\"✅ Submission file created successfully!\")"
   ]
  },
  {
   "cell_type": "markdown",
   "id": "1224d0ae",
   "metadata": {},
   "source": [
    "# Observation on final Prediction :\n",
    "\n",
    "* loaded model Xgboost \n",
    "* loaded scalar to unscale sales feature \n",
    "* loaded test_feature_engineered dataset\n",
    "* created a submission csv file of id and the predicted sales "
   ]
  }
 ],
 "metadata": {
  "kernelspec": {
   "display_name": "Python 3",
   "language": "python",
   "name": "python3"
  },
  "language_info": {
   "codemirror_mode": {
    "name": "ipython",
    "version": 3
   },
   "file_extension": ".py",
   "mimetype": "text/x-python",
   "name": "python",
   "nbconvert_exporter": "python",
   "pygments_lexer": "ipython3",
   "version": "3.13.3"
  }
 },
 "nbformat": 4,
 "nbformat_minor": 5
}
