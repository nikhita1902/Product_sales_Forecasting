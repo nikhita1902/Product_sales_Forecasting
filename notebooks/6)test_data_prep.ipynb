{
 "cells": [
  {
   "cell_type": "code",
   "execution_count": 1,
   "id": "9add652a",
   "metadata": {},
   "outputs": [],
   "source": [
    "import numpy as np\n",
    "import pandas as pd \n",
    "\n",
    "test = pd.read_csv('C:/Product_Sale_Forecasting/data/TEST_FINAL.csv')"
   ]
  },
  {
   "cell_type": "code",
   "execution_count": 2,
   "id": "56a903ca",
   "metadata": {},
   "outputs": [
    {
     "data": {
      "text/plain": [
       "ID                       object\n",
       "Store_id                  int64\n",
       "Store_Type               object\n",
       "Location_Type            object\n",
       "Region_Code              object\n",
       "Date             datetime64[ns]\n",
       "Holiday                   int64\n",
       "Discount                 object\n",
       "dtype: object"
      ]
     },
     "execution_count": 2,
     "metadata": {},
     "output_type": "execute_result"
    }
   ],
   "source": [
    "test['Date'] = pd.to_datetime(test['Date'], errors='coerce')\n",
    "test.dtypes"
   ]
  },
  {
   "cell_type": "code",
   "execution_count": 3,
   "id": "bfe1e328",
   "metadata": {},
   "outputs": [],
   "source": [
    "# 2. Feature engineering same as train\n",
    "test['Date'] = pd.to_datetime(test['Date'])\n",
    "test['Year'] = test['Date'].dt.year\n",
    "test['Month'] = test['Date'].dt.month\n",
    "test['Day'] = test['Date'].dt.day\n",
    "test['DayOfWeek'] = test['Date'].dt.dayofweek\n",
    "test['Is_Weekend'] = (test['DayOfWeek'] >=5 ).astype(int)\n",
    "test['Discount_Offered'] = test['Discount'].map({'Yes': 1, 'No': 0})\n"
   ]
  },
  {
   "cell_type": "code",
   "execution_count": 4,
   "id": "211e62f2",
   "metadata": {},
   "outputs": [],
   "source": [
    "# 3. One-hot encoding (drop_first=True to match training)\n",
    "test = pd.get_dummies(test, columns=['Store_Type', 'Location_Type', 'Region_Code'], drop_first=True)\n"
   ]
  },
  {
   "cell_type": "code",
   "execution_count": 5,
   "id": "20a9ca9c",
   "metadata": {},
   "outputs": [
    {
     "name": "stdout",
     "output_type": "stream",
     "text": [
      "Test data prepared and saved!\n"
     ]
    }
   ],
   "source": [
    "# 4. Save processed test data\n",
    "test.to_csv('test_feature_engineered.csv', index=False)\n",
    "\n",
    "print(\"Test data prepared and saved!\")"
   ]
  },
  {
   "cell_type": "code",
   "execution_count": 6,
   "id": "fc902e6b",
   "metadata": {},
   "outputs": [],
   "source": [
    "df=pd.read_csv('C:/Product_Sale_Forecasting/notebooks/test_feature_engineered.csv')"
   ]
  },
  {
   "cell_type": "code",
   "execution_count": 7,
   "id": "2a31c5c8",
   "metadata": {},
   "outputs": [
    {
     "name": "stdout",
     "output_type": "stream",
     "text": [
      "<class 'pandas.core.frame.DataFrame'>\n",
      "RangeIndex: 22265 entries, 0 to 22264\n",
      "Data columns (total 21 columns):\n",
      " #   Column            Non-Null Count  Dtype \n",
      "---  ------            --------------  ----- \n",
      " 0   ID                22265 non-null  object\n",
      " 1   Store_id          22265 non-null  int64 \n",
      " 2   Date              22265 non-null  object\n",
      " 3   Holiday           22265 non-null  int64 \n",
      " 4   Discount          22265 non-null  object\n",
      " 5   Year              22265 non-null  int64 \n",
      " 6   Month             22265 non-null  int64 \n",
      " 7   Day               22265 non-null  int64 \n",
      " 8   DayOfWeek         22265 non-null  int64 \n",
      " 9   Is_Weekend        22265 non-null  int64 \n",
      " 10  Discount_Offered  22265 non-null  int64 \n",
      " 11  Store_Type_S2     22265 non-null  bool  \n",
      " 12  Store_Type_S3     22265 non-null  bool  \n",
      " 13  Store_Type_S4     22265 non-null  bool  \n",
      " 14  Location_Type_L2  22265 non-null  bool  \n",
      " 15  Location_Type_L3  22265 non-null  bool  \n",
      " 16  Location_Type_L4  22265 non-null  bool  \n",
      " 17  Location_Type_L5  22265 non-null  bool  \n",
      " 18  Region_Code_R2    22265 non-null  bool  \n",
      " 19  Region_Code_R3    22265 non-null  bool  \n",
      " 20  Region_Code_R4    22265 non-null  bool  \n",
      "dtypes: bool(10), int64(8), object(3)\n",
      "memory usage: 2.1+ MB\n"
     ]
    }
   ],
   "source": [
    "df.info()"
   ]
  },
  {
   "cell_type": "code",
   "execution_count": 8,
   "id": "a537b678",
   "metadata": {},
   "outputs": [
    {
     "data": {
      "text/plain": [
       "ID                  0\n",
       "Store_id            0\n",
       "Date                0\n",
       "Holiday             0\n",
       "Discount            0\n",
       "Year                0\n",
       "Month               0\n",
       "Day                 0\n",
       "DayOfWeek           0\n",
       "Is_Weekend          0\n",
       "Discount_Offered    0\n",
       "Store_Type_S2       0\n",
       "Store_Type_S3       0\n",
       "Store_Type_S4       0\n",
       "Location_Type_L2    0\n",
       "Location_Type_L3    0\n",
       "Location_Type_L4    0\n",
       "Location_Type_L5    0\n",
       "Region_Code_R2      0\n",
       "Region_Code_R3      0\n",
       "Region_Code_R4      0\n",
       "dtype: int64"
      ]
     },
     "execution_count": 8,
     "metadata": {},
     "output_type": "execute_result"
    }
   ],
   "source": [
    "df.isna().sum()"
   ]
  },
  {
   "cell_type": "markdown",
   "id": "dbb4402b",
   "metadata": {},
   "source": [
    "# Observations on feature engineering the test data :\n",
    " \n",
    " * loaded test dataset\n",
    " * made same features as training dataset to ensure model works fine "
   ]
  },
  {
   "cell_type": "markdown",
   "id": "5b20660b",
   "metadata": {},
   "source": []
  }
 ],
 "metadata": {
  "kernelspec": {
   "display_name": "Python 3",
   "language": "python",
   "name": "python3"
  },
  "language_info": {
   "codemirror_mode": {
    "name": "ipython",
    "version": 3
   },
   "file_extension": ".py",
   "mimetype": "text/x-python",
   "name": "python",
   "nbconvert_exporter": "python",
   "pygments_lexer": "ipython3",
   "version": "3.13.3"
  }
 },
 "nbformat": 4,
 "nbformat_minor": 5
}
