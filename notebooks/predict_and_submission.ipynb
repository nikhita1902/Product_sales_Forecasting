{
 "cells": [
  {
   "cell_type": "code",
   "execution_count": 21,
   "id": "f4c31273",
   "metadata": {},
   "outputs": [],
   "source": [
    "# predict_and_submission.py\n",
    "import numpy as np\n",
    "import pandas as pd\n",
    "import pickle\n",
    "import numpy as np"
   ]
  },
  {
   "cell_type": "code",
   "execution_count": 22,
   "id": "207681ae",
   "metadata": {},
   "outputs": [],
   "source": [
    "# 1. Load model\n",
    "with open('xgboost_model.pkl', 'rb') as file:\n",
    "    model = pickle.load(file)"
   ]
  },
  {
   "cell_type": "code",
   "execution_count": 23,
   "id": "02a5a153",
   "metadata": {},
   "outputs": [],
   "source": [
    "# Predict on test data\n",
    "y_test_pred_scaled = model.predict(X_test)"
   ]
  },
  {
   "cell_type": "code",
   "execution_count": 24,
   "id": "f95c646f",
   "metadata": {},
   "outputs": [
    {
     "name": "stderr",
     "output_type": "stream",
     "text": [
      "C:\\Users\\konam\\AppData\\Roaming\\Python\\Python313\\site-packages\\sklearn\\base.py:380: InconsistentVersionWarning: Trying to unpickle estimator RobustScaler from version 1.2.2 when using version 1.6.1. This might lead to breaking code or invalid results. Use at your own risk. For more info please refer to:\n",
      "https://scikit-learn.org/stable/model_persistence.html#security-maintainability-limitations\n",
      "  warnings.warn(\n"
     ]
    }
   ],
   "source": [
    "# Load the scaler\n",
    "with open('scaler.pkl', 'rb') as f:\n",
    "    scaler = pickle.load(f)"
   ]
  },
  {
   "cell_type": "code",
   "execution_count": 25,
   "id": "d17dfe17",
   "metadata": {},
   "outputs": [],
   "source": [
    "# 2. Load processed test data\n",
    "test = pd.read_csv('C:/Product_Sale_Forecasting/notebooks/test_feature_engineered.csv')"
   ]
  },
  {
   "cell_type": "code",
   "execution_count": 26,
   "id": "dac0797f",
   "metadata": {},
   "outputs": [],
   "source": [
    "test['Discount'] = test['Discount'].map({'Yes': 1, 'No': 0})"
   ]
  },
  {
   "cell_type": "code",
   "execution_count": 27,
   "id": "5be6d7a4",
   "metadata": {},
   "outputs": [],
   "source": [
    "# 3. Match columns like X (Drop columns not used for prediction)\n",
    "X_test = test.drop(['ID', 'Date'], axis=1)\n",
    "\n"
   ]
  },
  {
   "cell_type": "code",
   "execution_count": 28,
   "id": "bdb179d1",
   "metadata": {},
   "outputs": [],
   "source": [
    "# 4. Predict sales\n",
    "y_pred = model.predict(X_test)"
   ]
  },
  {
   "cell_type": "code",
   "execution_count": 29,
   "id": "86db686f",
   "metadata": {},
   "outputs": [],
   "source": [
    "# Inverse transform the predictions\n",
    "y_test_pred = scaler.inverse_transform(\n",
    "    np.column_stack((y_test_pred_scaled, np.zeros((len(y_test_pred_scaled), 3))))\n",
    ")[:, 0]"
   ]
  },
  {
   "cell_type": "code",
   "execution_count": 30,
   "id": "b35aa62f",
   "metadata": {},
   "outputs": [],
   "source": [
    "# Clip negative sales to zero\n",
    "y_test_pred = np.clip(y_test_pred, 0, None)"
   ]
  },
  {
   "cell_type": "code",
   "execution_count": 31,
   "id": "1b7fd286",
   "metadata": {},
   "outputs": [],
   "source": [
    "# 5. Prepare the submission dataframe\n",
    "submission = pd.DataFrame({\n",
    "    'ID': test['ID'],\n",
    "    'Sales': y_pred\n",
    "})"
   ]
  },
  {
   "cell_type": "code",
   "execution_count": 32,
   "id": "276f7473",
   "metadata": {},
   "outputs": [
    {
     "name": "stdout",
     "output_type": "stream",
     "text": [
      "✅ Submission file created successfully!\n"
     ]
    }
   ],
   "source": [
    "# 6. Save the submission file\n",
    "submission.to_csv('submission.csv', index=False)\n",
    "\n",
    "print(\"✅ Submission file created successfully!\")"
   ]
  },
  {
   "cell_type": "code",
   "execution_count": null,
   "id": "49e0cdb2",
   "metadata": {},
   "outputs": [],
   "source": []
  }
 ],
 "metadata": {
  "kernelspec": {
   "display_name": "Python 3",
   "language": "python",
   "name": "python3"
  },
  "language_info": {
   "codemirror_mode": {
    "name": "ipython",
    "version": 3
   },
   "file_extension": ".py",
   "mimetype": "text/x-python",
   "name": "python",
   "nbconvert_exporter": "python",
   "pygments_lexer": "ipython3",
   "version": "3.13.3"
  }
 },
 "nbformat": 4,
 "nbformat_minor": 5
}
