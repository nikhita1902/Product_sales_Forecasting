{
 "cells": [
  {
   "cell_type": "code",
   "execution_count": 16,
   "id": "3d1a3db7",
   "metadata": {},
   "outputs": [
    {
     "data": {
      "text/plain": [
       "(188340, 26)"
      ]
     },
     "execution_count": 16,
     "metadata": {},
     "output_type": "execute_result"
    }
   ],
   "source": [
    "import pandas as pd\n",
    "import numpy as np\n",
    "\n",
    "df = pd.read_csv('C:/Product_Sale_Forecasting/data/final_featured_dataset.csv')\n",
    "df.shape"
   ]
  },
  {
   "cell_type": "code",
   "execution_count": 17,
   "id": "d2e6a02c",
   "metadata": {},
   "outputs": [
    {
     "data": {
      "text/html": [
       "<div>\n",
       "<style scoped>\n",
       "    .dataframe tbody tr th:only-of-type {\n",
       "        vertical-align: middle;\n",
       "    }\n",
       "\n",
       "    .dataframe tbody tr th {\n",
       "        vertical-align: top;\n",
       "    }\n",
       "\n",
       "    .dataframe thead th {\n",
       "        text-align: right;\n",
       "    }\n",
       "</style>\n",
       "<table border=\"1\" class=\"dataframe\">\n",
       "  <thead>\n",
       "    <tr style=\"text-align: right;\">\n",
       "      <th></th>\n",
       "      <th>ID</th>\n",
       "      <th>Store_id</th>\n",
       "      <th>Date</th>\n",
       "      <th>Holiday</th>\n",
       "      <th>Discount</th>\n",
       "      <th>#Order</th>\n",
       "      <th>Sales</th>\n",
       "      <th>Sales_log</th>\n",
       "      <th>Order_log</th>\n",
       "      <th>Year</th>\n",
       "      <th>...</th>\n",
       "      <th>Store_Type_S2</th>\n",
       "      <th>Store_Type_S3</th>\n",
       "      <th>Store_Type_S4</th>\n",
       "      <th>Location_Type_L2</th>\n",
       "      <th>Location_Type_L3</th>\n",
       "      <th>Location_Type_L4</th>\n",
       "      <th>Location_Type_L5</th>\n",
       "      <th>Region_Code_R2</th>\n",
       "      <th>Region_Code_R3</th>\n",
       "      <th>Region_Code_R4</th>\n",
       "    </tr>\n",
       "  </thead>\n",
       "  <tbody>\n",
       "    <tr>\n",
       "      <th>0</th>\n",
       "      <td>T1000001</td>\n",
       "      <td>1</td>\n",
       "      <td>2018-01-01</td>\n",
       "      <td>1</td>\n",
       "      <td>1</td>\n",
       "      <td>-1.588235</td>\n",
       "      <td>-1.520559</td>\n",
       "      <td>-3.244367</td>\n",
       "      <td>-3.522251</td>\n",
       "      <td>2018.0</td>\n",
       "      <td>...</td>\n",
       "      <td>False</td>\n",
       "      <td>False</td>\n",
       "      <td>False</td>\n",
       "      <td>False</td>\n",
       "      <td>True</td>\n",
       "      <td>False</td>\n",
       "      <td>False</td>\n",
       "      <td>False</td>\n",
       "      <td>False</td>\n",
       "      <td>False</td>\n",
       "    </tr>\n",
       "    <tr>\n",
       "      <th>1</th>\n",
       "      <td>T1000002</td>\n",
       "      <td>253</td>\n",
       "      <td>2018-01-01</td>\n",
       "      <td>1</td>\n",
       "      <td>1</td>\n",
       "      <td>-0.088235</td>\n",
       "      <td>0.563754</td>\n",
       "      <td>0.498665</td>\n",
       "      <td>-0.091096</td>\n",
       "      <td>2018.0</td>\n",
       "      <td>...</td>\n",
       "      <td>False</td>\n",
       "      <td>False</td>\n",
       "      <td>True</td>\n",
       "      <td>True</td>\n",
       "      <td>False</td>\n",
       "      <td>False</td>\n",
       "      <td>False</td>\n",
       "      <td>False</td>\n",
       "      <td>False</td>\n",
       "      <td>False</td>\n",
       "    </tr>\n",
       "    <tr>\n",
       "      <th>2</th>\n",
       "      <td>T1000003</td>\n",
       "      <td>252</td>\n",
       "      <td>2018-01-01</td>\n",
       "      <td>1</td>\n",
       "      <td>1</td>\n",
       "      <td>-0.617647</td>\n",
       "      <td>-0.130792</td>\n",
       "      <td>-0.137492</td>\n",
       "      <td>-0.754588</td>\n",
       "      <td>2018.0</td>\n",
       "      <td>...</td>\n",
       "      <td>False</td>\n",
       "      <td>True</td>\n",
       "      <td>False</td>\n",
       "      <td>True</td>\n",
       "      <td>False</td>\n",
       "      <td>False</td>\n",
       "      <td>False</td>\n",
       "      <td>False</td>\n",
       "      <td>False</td>\n",
       "      <td>False</td>\n",
       "    </tr>\n",
       "    <tr>\n",
       "      <th>3</th>\n",
       "      <td>T1000004</td>\n",
       "      <td>251</td>\n",
       "      <td>2018-01-01</td>\n",
       "      <td>1</td>\n",
       "      <td>1</td>\n",
       "      <td>-1.176471</td>\n",
       "      <td>-0.929239</td>\n",
       "      <td>-1.309263</td>\n",
       "      <td>-1.861084</td>\n",
       "      <td>2018.0</td>\n",
       "      <td>...</td>\n",
       "      <td>True</td>\n",
       "      <td>False</td>\n",
       "      <td>False</td>\n",
       "      <td>False</td>\n",
       "      <td>True</td>\n",
       "      <td>False</td>\n",
       "      <td>False</td>\n",
       "      <td>False</td>\n",
       "      <td>False</td>\n",
       "      <td>False</td>\n",
       "    </tr>\n",
       "    <tr>\n",
       "      <th>4</th>\n",
       "      <td>T1000005</td>\n",
       "      <td>250</td>\n",
       "      <td>2018-01-01</td>\n",
       "      <td>1</td>\n",
       "      <td>1</td>\n",
       "      <td>-0.029412</td>\n",
       "      <td>0.276336</td>\n",
       "      <td>0.261009</td>\n",
       "      <td>-0.029882</td>\n",
       "      <td>2018.0</td>\n",
       "      <td>...</td>\n",
       "      <td>True</td>\n",
       "      <td>False</td>\n",
       "      <td>False</td>\n",
       "      <td>False</td>\n",
       "      <td>True</td>\n",
       "      <td>False</td>\n",
       "      <td>False</td>\n",
       "      <td>False</td>\n",
       "      <td>False</td>\n",
       "      <td>True</td>\n",
       "    </tr>\n",
       "  </tbody>\n",
       "</table>\n",
       "<p>5 rows × 26 columns</p>\n",
       "</div>"
      ],
      "text/plain": [
       "         ID  Store_id        Date  Holiday  Discount    #Order     Sales  \\\n",
       "0  T1000001         1  2018-01-01        1         1 -1.588235 -1.520559   \n",
       "1  T1000002       253  2018-01-01        1         1 -0.088235  0.563754   \n",
       "2  T1000003       252  2018-01-01        1         1 -0.617647 -0.130792   \n",
       "3  T1000004       251  2018-01-01        1         1 -1.176471 -0.929239   \n",
       "4  T1000005       250  2018-01-01        1         1 -0.029412  0.276336   \n",
       "\n",
       "   Sales_log  Order_log    Year  ...  Store_Type_S2  Store_Type_S3  \\\n",
       "0  -3.244367  -3.522251  2018.0  ...          False          False   \n",
       "1   0.498665  -0.091096  2018.0  ...          False          False   \n",
       "2  -0.137492  -0.754588  2018.0  ...          False           True   \n",
       "3  -1.309263  -1.861084  2018.0  ...           True          False   \n",
       "4   0.261009  -0.029882  2018.0  ...           True          False   \n",
       "\n",
       "   Store_Type_S4  Location_Type_L2  Location_Type_L3  Location_Type_L4  \\\n",
       "0          False             False              True             False   \n",
       "1           True              True             False             False   \n",
       "2          False              True             False             False   \n",
       "3          False             False              True             False   \n",
       "4          False             False              True             False   \n",
       "\n",
       "   Location_Type_L5  Region_Code_R2  Region_Code_R3  Region_Code_R4  \n",
       "0             False           False           False           False  \n",
       "1             False           False           False           False  \n",
       "2             False           False           False           False  \n",
       "3             False           False           False           False  \n",
       "4             False           False           False            True  \n",
       "\n",
       "[5 rows x 26 columns]"
      ]
     },
     "execution_count": 17,
     "metadata": {},
     "output_type": "execute_result"
    }
   ],
   "source": [
    "df.head()"
   ]
  },
  {
   "cell_type": "code",
   "execution_count": 18,
   "id": "bc255596",
   "metadata": {},
   "outputs": [
    {
     "name": "stdout",
     "output_type": "stream",
     "text": [
      "<class 'pandas.core.frame.DataFrame'>\n",
      "RangeIndex: 188340 entries, 0 to 188339\n",
      "Data columns (total 26 columns):\n",
      " #   Column            Non-Null Count   Dtype  \n",
      "---  ------            --------------   -----  \n",
      " 0   ID                188340 non-null  object \n",
      " 1   Store_id          188340 non-null  int64  \n",
      " 2   Date              74460 non-null   object \n",
      " 3   Holiday           188340 non-null  int64  \n",
      " 4   Discount          188340 non-null  int64  \n",
      " 5   #Order            188340 non-null  float64\n",
      " 6   Sales             188340 non-null  float64\n",
      " 7   Sales_log         188340 non-null  float64\n",
      " 8   Order_log         188340 non-null  float64\n",
      " 9   Year              74460 non-null   float64\n",
      " 10  Month             74460 non-null   float64\n",
      " 11  Day               74460 non-null   float64\n",
      " 12  DayOfWeek         74460 non-null   float64\n",
      " 13  Is_Weekend        188340 non-null  int64  \n",
      " 14  Discount_Offered  188340 non-null  int64  \n",
      " 15  Sales_per_Order   188340 non-null  float64\n",
      " 16  Store_Type_S2     188340 non-null  bool   \n",
      " 17  Store_Type_S3     188340 non-null  bool   \n",
      " 18  Store_Type_S4     188340 non-null  bool   \n",
      " 19  Location_Type_L2  188340 non-null  bool   \n",
      " 20  Location_Type_L3  188340 non-null  bool   \n",
      " 21  Location_Type_L4  188340 non-null  bool   \n",
      " 22  Location_Type_L5  188340 non-null  bool   \n",
      " 23  Region_Code_R2    188340 non-null  bool   \n",
      " 24  Region_Code_R3    188340 non-null  bool   \n",
      " 25  Region_Code_R4    188340 non-null  bool   \n",
      "dtypes: bool(10), float64(9), int64(5), object(2)\n",
      "memory usage: 24.8+ MB\n"
     ]
    }
   ],
   "source": [
    "df.info()"
   ]
  },
  {
   "cell_type": "markdown",
   "id": "178fcc10",
   "metadata": {},
   "source": [
    "importing libraries\n"
   ]
  },
  {
   "cell_type": "code",
   "execution_count": 19,
   "id": "8bf2c1ef",
   "metadata": {},
   "outputs": [],
   "source": [
    "import pandas as pd\n",
    "import numpy as np\n",
    "from sklearn.model_selection import train_test_split, cross_val_score\n",
    "from sklearn.linear_model import LinearRegression\n",
    "from sklearn.ensemble import RandomForestRegressor, GradientBoostingRegressor\n",
    "from sklearn.metrics import mean_squared_error, mean_absolute_error, r2_score\n",
    "import warnings\n",
    "warnings.filterwarnings('ignore')"
   ]
  },
  {
   "cell_type": "code",
   "execution_count": 20,
   "id": "6f0ddd0b",
   "metadata": {},
   "outputs": [
    {
     "data": {
      "text/plain": [
       "ID                       0\n",
       "Store_id                 0\n",
       "Date                113880\n",
       "Holiday                  0\n",
       "Discount                 0\n",
       "#Order                   0\n",
       "Sales                    0\n",
       "Sales_log                0\n",
       "Order_log                0\n",
       "Year                113880\n",
       "Month               113880\n",
       "Day                 113880\n",
       "DayOfWeek           113880\n",
       "Is_Weekend               0\n",
       "Discount_Offered         0\n",
       "Sales_per_Order          0\n",
       "Store_Type_S2            0\n",
       "Store_Type_S3            0\n",
       "Store_Type_S4            0\n",
       "Location_Type_L2         0\n",
       "Location_Type_L3         0\n",
       "Location_Type_L4         0\n",
       "Location_Type_L5         0\n",
       "Region_Code_R2           0\n",
       "Region_Code_R3           0\n",
       "Region_Code_R4           0\n",
       "dtype: int64"
      ]
     },
     "execution_count": 20,
     "metadata": {},
     "output_type": "execute_result"
    }
   ],
   "source": [
    "df.isna().sum()\n"
   ]
  },
  {
   "cell_type": "code",
   "execution_count": 21,
   "id": "f635a512",
   "metadata": {},
   "outputs": [
    {
     "data": {
      "text/plain": [
       "ID                  0\n",
       "Store_id            0\n",
       "Date                0\n",
       "Holiday             0\n",
       "Discount            0\n",
       "#Order              0\n",
       "Sales               0\n",
       "Sales_log           0\n",
       "Order_log           0\n",
       "Year                0\n",
       "Month               0\n",
       "Day                 0\n",
       "DayOfWeek           0\n",
       "Is_Weekend          0\n",
       "Discount_Offered    0\n",
       "Sales_per_Order     0\n",
       "Store_Type_S2       0\n",
       "Store_Type_S3       0\n",
       "Store_Type_S4       0\n",
       "Location_Type_L2    0\n",
       "Location_Type_L3    0\n",
       "Location_Type_L4    0\n",
       "Location_Type_L5    0\n",
       "Region_Code_R2      0\n",
       "Region_Code_R3      0\n",
       "Region_Code_R4      0\n",
       "dtype: int64"
      ]
     },
     "execution_count": 21,
     "metadata": {},
     "output_type": "execute_result"
    }
   ],
   "source": [
    "df.fillna(df.mode().iloc[0], inplace=True)\n",
    "df.isna().sum()"
   ]
  },
  {
   "cell_type": "code",
   "execution_count": 22,
   "id": "b226755c",
   "metadata": {},
   "outputs": [],
   "source": [
    "# 3. Separate Features and Target\n",
    "X = df.drop(['Sales', 'Sales_log', 'ID', 'Date'], axis=1)\n",
    "y = df['Sales']"
   ]
  },
  {
   "cell_type": "code",
   "execution_count": 23,
   "id": "9b8e5bba",
   "metadata": {},
   "outputs": [],
   "source": [
    "# 4. Train-Test Split\n",
    "X_train, X_val, y_train, y_val = train_test_split(X, y, test_size=0.2, random_state=42)\n"
   ]
  },
  {
   "cell_type": "code",
   "execution_count": 24,
   "id": "e01d0dad",
   "metadata": {},
   "outputs": [],
   "source": [
    "# 5. Define evaluation function\n",
    "def evaluate_model(model, X_val, y_val):\n",
    "    preds = model.predict(X_val)\n",
    "    mse = mean_squared_error(y_val, preds)\n",
    "    rmse = np.sqrt(mse)\n",
    "    mae = mean_absolute_error(y_val, preds)\n",
    "    r2 = r2_score(y_val, preds)\n",
    "    print(f\"Model: {model.__class__.__name__}\")\n",
    "    print(f\"RMSE: {rmse:.2f}\")\n",
    "    print(f\"MAE: {mae:.2f}\")\n",
    "    print(f\"R2 Score: {r2:.4f}\")\n",
    "    print('-'*30)\n",
    "    return rmse, mae, r2"
   ]
  },
  {
   "cell_type": "code",
   "execution_count": 25,
   "id": "49ae754d",
   "metadata": {},
   "outputs": [
    {
     "name": "stdout",
     "output_type": "stream",
     "text": [
      "Model: LinearRegression\n",
      "RMSE: 0.11\n",
      "MAE: 0.07\n",
      "R2 Score: 0.9834\n",
      "------------------------------\n"
     ]
    },
    {
     "data": {
      "text/plain": [
       "(np.float64(0.11019234216736709), 0.06783126068492609, 0.9834239839405776)"
      ]
     },
     "execution_count": 25,
     "metadata": {},
     "output_type": "execute_result"
    }
   ],
   "source": [
    "# 6. Baseline Model - Linear Regression\n",
    "lr = LinearRegression()\n",
    "lr.fit(X_train, y_train)\n",
    "evaluate_model(lr, X_val, y_val)"
   ]
  },
  {
   "cell_type": "code",
   "execution_count": 26,
   "id": "37922dbf",
   "metadata": {},
   "outputs": [
    {
     "name": "stdout",
     "output_type": "stream",
     "text": [
      "Model: RandomForestRegressor\n",
      "RMSE: 0.01\n",
      "MAE: 0.00\n",
      "R2 Score: 0.9999\n",
      "------------------------------\n"
     ]
    },
    {
     "data": {
      "text/plain": [
       "(np.float64(0.010348960195578695), 0.0013198497683781637, 0.9998537921255236)"
      ]
     },
     "execution_count": 26,
     "metadata": {},
     "output_type": "execute_result"
    }
   ],
   "source": [
    "# 7. Random Forest Model\n",
    "rf = RandomForestRegressor(n_estimators=100, random_state=42)\n",
    "rf.fit(X_train, y_train)\n",
    "evaluate_model(rf, X_val, y_val)"
   ]
  },
  {
   "cell_type": "code",
   "execution_count": 27,
   "id": "90e54e20",
   "metadata": {},
   "outputs": [
    {
     "name": "stdout",
     "output_type": "stream",
     "text": [
      "Model: GradientBoostingRegressor\n",
      "RMSE: 0.03\n",
      "MAE: 0.02\n",
      "R2 Score: 0.9991\n",
      "------------------------------\n"
     ]
    },
    {
     "data": {
      "text/plain": [
       "(np.float64(0.025046959819122243), 0.017339037913635693, 0.9991435788804719)"
      ]
     },
     "execution_count": 27,
     "metadata": {},
     "output_type": "execute_result"
    }
   ],
   "source": [
    "# 8. Gradient Boosting Model\n",
    "gbr = GradientBoostingRegressor(n_estimators=100, learning_rate=0.1, random_state=42)\n",
    "gbr.fit(X_train, y_train)\n",
    "evaluate_model(gbr, X_val, y_val)"
   ]
  },
  {
   "cell_type": "code",
   "execution_count": 28,
   "id": "0cf8ab5d",
   "metadata": {},
   "outputs": [
    {
     "data": {
      "image/png": "[encoded data removed]",
      "text/plain": [
       "<Figure size 640x480 with 1 Axes>"
      ]
     },
     "metadata": {},
     "output_type": "display_data"
    }
   ],
   "source": [
    "# 9. Feature Importance (from Random Forest)\n",
    "import matplotlib.pyplot as plt\n",
    "import seaborn as sns\n",
    "\n",
    "feat_importances = pd.Series(rf.feature_importances_, index=X_train.columns)\n",
    "feat_importances.nlargest(15).plot(kind='barh')\n",
    "plt.title('Top 15 Feature Importances (Random Forest)')\n",
    "plt.show()"
   ]
  },
  {
   "cell_type": "markdown",
   "id": "3a413215",
   "metadata": {},
   "source": [
    "# Observations on Model_selection :\n",
    "\n",
    "* I chose Linear Regression as a base model \n",
    "* Random Forest as a tree based model \n",
    "* Gradient Boosting as an ensemble machine learning algorithm \n",
    "\n",
    "* after feature engineering I missed to check null values in date and new features formed from date.cleared them up here by using mode \n",
    "\n",
    "* Linear Regression :\n",
    "  * RSME : 0.11 \n",
    "  * MAE : 0.07 \n",
    "  * R2 Score : 0.98 \n",
    "\n",
    "* Random Forest :\n",
    "  * RMSE : 0.01\n",
    "  * MAE : 0.0 \n",
    "  * R2 Score : 0.99\n",
    "\n",
    "* Gradient Boosting :\n",
    "  * RMSE : 0.03\n",
    "  * MAE : 0.02\n",
    "  * R2 Score : 0.9991\n",
    "\n",
    "* RandomForestRegressor has the lowest RMSE and MAE, and the highest R² (0.9998).\n",
    "* Its error is almost negligible, and R² is very close to 1, meaning it explains almost all the variance in the data.\n",
    "* GradientBoosting is good too, but slightly worse than Random Forest.\n",
    "* Linear Regression is much worse compared to both.\n",
    "\n",
    "* THIS MADE ME REALISE THAT MAY HAVE MADE A MISTAKE AND CHECKED FOR FEATURE IMPORTANCE GRAPH AND FOUND OUT I USED HIGHLY CORRELATED FEATURE FOR SALES WHICH IS ORDER TO PREDICT MY MODEL \n",
    "\n",
    "* SO I'm taking this as a learning oppurtunity and starting a new file for modeling model_training.ipynb\n",
    " "
   ]
  },
  {
   "cell_type": "markdown",
   "id": "486142d9",
   "metadata": {},
   "source": []
  }
 ],
 "metadata": {
  "kernelspec": {
   "display_name": "Python 3",
   "language": "python",
   "name": "python3"
  },
  "language_info": {
   "codemirror_mode": {
    "name": "ipython",
    "version": 3
   },
   "file_extension": ".py",
   "mimetype": "text/x-python",
   "name": "python",
   "nbconvert_exporter": "python",
   "pygments_lexer": "ipython3",
   "version": "3.13.3"
  }
 },
 "nbformat": 4,
 "nbformat_minor": 5
}
